{
 "cells": [
  {
   "cell_type": "markdown",
   "id": "101da7ac-a1bd-4350-89f0-293539636600",
   "metadata": {},
   "source": [
    "# <center> Here I practice to learn"
   ]
  },
  {
   "cell_type": "markdown",
   "id": "97fb637c-c66c-49c1-a983-ce41c3076e10",
   "metadata": {},
   "source": [
    "## Importing packages"
   ]
  },
  {
   "cell_type": "code",
   "execution_count": 14,
   "id": "65767f93-cfb0-4fdc-90fb-2fd3ee73c1d4",
   "metadata": {},
   "outputs": [],
   "source": [
    "import numpy as np\n",
    "import pandas as pd"
   ]
  },
  {
   "cell_type": "markdown",
   "id": "22476f6b-2790-4ced-92f8-703c4bfa85b5",
   "metadata": {},
   "source": [
    "## Numpy arrays"
   ]
  },
  {
   "cell_type": "code",
   "execution_count": 42,
   "id": "0c8b467f-90bd-4159-af66-c49526c52034",
   "metadata": {},
   "outputs": [
    {
     "name": "stdout",
     "output_type": "stream",
     "text": [
      "[['Bach' 'Chopin']]\n",
      "(1, 2)\n"
     ]
    }
   ],
   "source": [
    "array_1D = np.array([['Bach','Chopin']])\n",
    "print(array_1D)\n",
    "print(array_1D.shape)"
   ]
  },
  {
   "cell_type": "code",
   "execution_count": 27,
   "id": "200fbd10-6668-4c89-8e0f-a1d8a54962ae",
   "metadata": {},
   "outputs": [
    {
     "name": "stdout",
     "output_type": "stream",
     "text": [
      "[['Reza' 'Ehsan']\n",
      " ['Dina' 'Sahar']]\n",
      "(2, 2)\n"
     ]
    }
   ],
   "source": [
    "array_2D = np.array([['Reza', 'Ehsan'], ['Dina', 'Sahar']])\n",
    "print(array_2D)\n",
    "print(array_2D.shape)"
   ]
  },
  {
   "cell_type": "markdown",
   "id": "a41643bd-6179-469d-a55c-ac211b2a8bd0",
   "metadata": {},
   "source": [
    "### Calling array elements"
   ]
  },
  {
   "cell_type": "code",
   "execution_count": 32,
   "id": "782aab0a-6e6f-455d-a763-975c30322adf",
   "metadata": {},
   "outputs": [
    {
     "name": "stdout",
     "output_type": "stream",
     "text": [
      "the first element is:  ['Reza' 'Ehsan']\n"
     ]
    }
   ],
   "source": [
    "print('the first element is: ', array_2D[0])"
   ]
  },
  {
   "cell_type": "code",
   "execution_count": 38,
   "id": "f781c2bf-c983-4b36-9512-fbb022791e14",
   "metadata": {},
   "outputs": [
    {
     "name": "stdout",
     "output_type": "stream",
     "text": [
      "The second elmnt of the first elemnt is: Ehsan\n"
     ]
    }
   ],
   "source": [
    "print('The second elmnt of the first elemnt is:', array_2D[0][1])"
   ]
  },
  {
   "cell_type": "code",
   "execution_count": 44,
   "id": "2fd2e4bf-849b-4248-acfb-2ba97eecb0cc",
   "metadata": {},
   "outputs": [
    {
     "name": "stdout",
     "output_type": "stream",
     "text": [
      "[['Reza' 'Ehsan']\n",
      " ['Dina' 'Sahar']\n",
      " ['Bach' 'Chopin']]\n"
     ]
    }
   ],
   "source": [
    "array_appended = np.append(arr=array_2D, values=array_1D, axis=0)\n",
    "print(array_appended)"
   ]
  },
  {
   "cell_type": "code",
   "execution_count": 70,
   "id": "4cbb8cbc-783d-4a6b-b152-b22ef8fa9a7d",
   "metadata": {},
   "outputs": [
    {
     "name": "stdout",
     "output_type": "stream",
     "text": [
      "[['Bach']\n",
      " ['Chopin']]\n",
      "[['Reza' 'Ehsan' 'Bach']\n",
      " ['Dina' 'Sahar' 'Chopin']]\n"
     ]
    }
   ],
   "source": [
    "#array_1D_reshape = np.reshape(array_1D, (2,1))\n",
    "print(array_1D_reshape)\n",
    "array_appended = np.append(arr=array_2D, values=array_1D.reshape(2,1), axis=1)\n",
    "print(array_appended)"
   ]
  },
  {
   "cell_type": "code",
   "execution_count": 72,
   "id": "b1494383-ea35-43c1-87ab-2baafbc6e784",
   "metadata": {},
   "outputs": [
    {
     "name": "stdout",
     "output_type": "stream",
     "text": [
      "(2, 3)\n"
     ]
    }
   ],
   "source": [
    "print(array_appended.shape)"
   ]
  },
  {
   "cell_type": "code",
   "execution_count": 1,
   "id": "657ef909-a1d3-415f-aea8-a06620a376ea",
   "metadata": {},
   "outputs": [
    {
     "name": "stdout",
     "output_type": "stream",
     "text": [
      "['__class__', '__delattr__', '__dict__', '__dir__', '__doc__', '__eq__', '__format__', '__ge__', '__getattribute__', '__getstate__', '__gt__', '__hash__', '__init__', '__init_subclass__', '__le__', '__lt__', '__module__', '__ne__', '__new__', '__reduce__', '__reduce_ex__', '__repr__', '__setattr__', '__sizeof__', '__str__', '__subclasshook__', '__weakref__', 'age', 'country', 'name']\n"
     ]
    }
   ],
   "source": [
    "class Person:\n",
    "  name = \"John\"\n",
    "  age = 36\n",
    "  country = \"Norway\"\n",
    "\n",
    "print(dir(Person))"
   ]
  },
  {
   "cell_type": "code",
   "execution_count": null,
   "id": "a352c909-0343-45ee-918a-987104c770cd",
   "metadata": {},
   "outputs": [],
   "source": []
  }
 ],
 "metadata": {
  "kernelspec": {
   "display_name": "Python [conda env:base] *",
   "language": "python",
   "name": "conda-base-py"
  },
  "language_info": {
   "codemirror_mode": {
    "name": "ipython",
    "version": 3
   },
   "file_extension": ".py",
   "mimetype": "text/x-python",
   "name": "python",
   "nbconvert_exporter": "python",
   "pygments_lexer": "ipython3",
   "version": "3.12.7"
  }
 },
 "nbformat": 4,
 "nbformat_minor": 5
}
